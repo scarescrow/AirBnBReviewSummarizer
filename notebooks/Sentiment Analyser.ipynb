{
 "cells": [
  {
   "cell_type": "code",
   "execution_count": 59,
   "metadata": {},
   "outputs": [],
   "source": [
    "from collections import defaultdict\n",
    "from random import random, randint\n",
    "from glob import glob\n",
    "from math import log\n",
    "import argparse\n",
    "import json\n",
    "from nltk.corpus import stopwords\n",
    "from nltk.probability import FreqDist\n",
    "import pylab as pl\n",
    "from pandas import *\n",
    "from nltk.tokenize import TreebankWordTokenizer\n",
    "kTOKENIZER = TreebankWordTokenizer()\n",
    "kDOC_NORMALIZER = True\n",
    "from nltk.collocations import *\n",
    "import time\n",
    "import string\n",
    "from gensim.corpora.dictionary import Dictionary\n",
    "from gensim.models.wrappers import LdaMallet\n",
    "from gensim.models import LdaModel\n",
    "import os\n",
    "\n",
    "import pandas as pd\n",
    "import numpy as np\n",
    "import re\n",
    "import seaborn as sns\n",
    "import matplotlib.pyplot as plt\n",
    "import spacy\n",
    "import os\n",
    "import string\n",
    "import nltk\n",
    "from nltk import word_tokenize\n",
    "from scipy.spatial.distance import cosine\n",
    "from nltk.corpus import stopwords\n",
    "from collections import Counter\n",
    "from spacy.lang.en.stop_words import STOP_WORDS\n",
    "%matplotlib inline\n",
    "from os import listdir\n",
    "from os.path import isfile, join\n",
    "from wordcloud import WordCloud\n",
    "import gensim\n",
    "from sklearn.cluster import KMeans\n",
    "from collections import Counter \n",
    "import numpy as np\n",
    "from matplotlib import pyplot as plt\n",
    "from scipy.cluster.hierarchy import dendrogram\n",
    "from sklearn.cluster import AgglomerativeClustering\n",
    "from sklearn.decomposition import PCA\n",
    "from sklearn.metrics import silhouette_score\n",
    "from wordcloud import WordCloud\n",
    "import gensim\n",
    "from nltk.sentiment.vader import SentimentIntensityAnalyzer"
   ]
  },
  {
   "cell_type": "code",
   "execution_count": 43,
   "metadata": {},
   "outputs": [],
   "source": [
    "nlp = spacy.load('en')\n",
    "stop_words_list = list(spacy.lang.en.STOP_WORDS)\n",
    "punctuation_list = list(string.punctuation)\n",
    "punctuation_list.extend('\\r')\n",
    "punctuation_list.extend('\\n')\n",
    "punctuation_list.extend(['0', '1', '2', '3', '4', '5', '6', '7', '8', '9'])"
   ]
  },
  {
   "cell_type": "code",
   "execution_count": 5,
   "metadata": {},
   "outputs": [],
   "source": [
    "def cleaning(element):\n",
    "    final_list = []\n",
    "    \"\"\" Clean up text. Tokenize, lowercase, and remove punctuation and stopwords \"\"\"\n",
    "    #print(\"Running cleaner\")\n",
    "    # Remove punctuation, symbols (#) and stopwords\n",
    "    element = str(element).lower()\n",
    "    new_string = ''\n",
    "    for char in element:\n",
    "        if char not in punctuation_list:\n",
    "            new_string += char\n",
    "    all_wrds = new_string.split(\" \")\n",
    "    for word in all_wrds:\n",
    "        if word not in stop_words_list:\n",
    "            final_list.append(word)\n",
    "    final_string = ' '.join(final_list)\n",
    "    return final_string"
   ]
  },
  {
   "cell_type": "code",
   "execution_count": 70,
   "metadata": {},
   "outputs": [],
   "source": [
    "master= []\n",
    "def tokenize(str_arg):\n",
    "    words = str_arg.split()\n",
    "    return words\n",
    "\n",
    "def append(row):\n",
    "    master.append(row)   "
   ]
  },
  {
   "cell_type": "code",
   "execution_count": 37,
   "metadata": {},
   "outputs": [
    {
     "data": {
      "text/html": [
       "<div>\n",
       "<style scoped>\n",
       "    .dataframe tbody tr th:only-of-type {\n",
       "        vertical-align: middle;\n",
       "    }\n",
       "\n",
       "    .dataframe tbody tr th {\n",
       "        vertical-align: top;\n",
       "    }\n",
       "\n",
       "    .dataframe thead th {\n",
       "        text-align: right;\n",
       "    }\n",
       "</style>\n",
       "<table border=\"1\" class=\"dataframe\">\n",
       "  <thead>\n",
       "    <tr style=\"text-align: right;\">\n",
       "      <th></th>\n",
       "      <th>listing_id</th>\n",
       "      <th>id</th>\n",
       "      <th>date</th>\n",
       "      <th>reviewer_id</th>\n",
       "      <th>reviewer_name</th>\n",
       "      <th>comments</th>\n",
       "    </tr>\n",
       "  </thead>\n",
       "  <tbody>\n",
       "    <tr>\n",
       "      <th>0</th>\n",
       "      <td>2318</td>\n",
       "      <td>146</td>\n",
       "      <td>2008-09-15</td>\n",
       "      <td>2451</td>\n",
       "      <td>Kevin</td>\n",
       "      <td>1000 times better than staying at a hotel.</td>\n",
       "    </tr>\n",
       "    <tr>\n",
       "      <th>1</th>\n",
       "      <td>2318</td>\n",
       "      <td>126302712</td>\n",
       "      <td>2017-01-10</td>\n",
       "      <td>12332845</td>\n",
       "      <td>Jessica</td>\n",
       "      <td>Our family (two couples, a two year old and an...</td>\n",
       "    </tr>\n",
       "    <tr>\n",
       "      <th>2</th>\n",
       "      <td>2318</td>\n",
       "      <td>140977084</td>\n",
       "      <td>2017-04-01</td>\n",
       "      <td>4789466</td>\n",
       "      <td>Ivan</td>\n",
       "      <td>Top of the list locations we have stayed at! T...</td>\n",
       "    </tr>\n",
       "    <tr>\n",
       "      <th>3</th>\n",
       "      <td>2318</td>\n",
       "      <td>147262504</td>\n",
       "      <td>2017-04-25</td>\n",
       "      <td>55817131</td>\n",
       "      <td>Mike</td>\n",
       "      <td>SUCH an awesome place. Very clean, quiet and s...</td>\n",
       "    </tr>\n",
       "    <tr>\n",
       "      <th>4</th>\n",
       "      <td>2318</td>\n",
       "      <td>161806368</td>\n",
       "      <td>2017-06-18</td>\n",
       "      <td>113604590</td>\n",
       "      <td>Pete</td>\n",
       "      <td>We flew quite a distance to be at our only dau...</td>\n",
       "    </tr>\n",
       "  </tbody>\n",
       "</table>\n",
       "</div>"
      ],
      "text/plain": [
       "   listing_id         id        date  reviewer_id reviewer_name  \\\n",
       "0        2318        146  2008-09-15         2451         Kevin   \n",
       "1        2318  126302712  2017-01-10     12332845       Jessica   \n",
       "2        2318  140977084  2017-04-01      4789466          Ivan   \n",
       "3        2318  147262504  2017-04-25     55817131          Mike   \n",
       "4        2318  161806368  2017-06-18    113604590          Pete   \n",
       "\n",
       "                                            comments  \n",
       "0        1000 times better than staying at a hotel.   \n",
       "1  Our family (two couples, a two year old and an...  \n",
       "2  Top of the list locations we have stayed at! T...  \n",
       "3  SUCH an awesome place. Very clean, quiet and s...  \n",
       "4  We flew quite a distance to be at our only dau...  "
      ]
     },
     "execution_count": 37,
     "metadata": {},
     "output_type": "execute_result"
    }
   ],
   "source": [
    "df_Seattle = pd.read_csv('data/reviews_Seattle.csv')\n",
    "df_Seattle = df_Seattle.dropna()\n",
    "df_Seattle.head()"
   ]
  },
  {
   "cell_type": "code",
   "execution_count": 38,
   "metadata": {},
   "outputs": [
    {
     "data": {
      "text/html": [
       "<div>\n",
       "<style scoped>\n",
       "    .dataframe tbody tr th:only-of-type {\n",
       "        vertical-align: middle;\n",
       "    }\n",
       "\n",
       "    .dataframe tbody tr th {\n",
       "        vertical-align: top;\n",
       "    }\n",
       "\n",
       "    .dataframe thead th {\n",
       "        text-align: right;\n",
       "    }\n",
       "</style>\n",
       "<table border=\"1\" class=\"dataframe\">\n",
       "  <thead>\n",
       "    <tr style=\"text-align: right;\">\n",
       "      <th></th>\n",
       "      <th>listing_id</th>\n",
       "      <th>id</th>\n",
       "      <th>date</th>\n",
       "      <th>reviewer_id</th>\n",
       "      <th>reviewer_name</th>\n",
       "      <th>comments</th>\n",
       "      <th>cleaned_comments</th>\n",
       "      <th>tokens</th>\n",
       "    </tr>\n",
       "  </thead>\n",
       "  <tbody>\n",
       "    <tr>\n",
       "      <th>0</th>\n",
       "      <td>2318</td>\n",
       "      <td>146</td>\n",
       "      <td>2008-09-15</td>\n",
       "      <td>2451</td>\n",
       "      <td>Kevin</td>\n",
       "      <td>1000 times better than staying at a hotel.</td>\n",
       "      <td>times better staying hotel</td>\n",
       "      <td>[times, better, staying, hotel]</td>\n",
       "    </tr>\n",
       "    <tr>\n",
       "      <th>1</th>\n",
       "      <td>2318</td>\n",
       "      <td>126302712</td>\n",
       "      <td>2017-01-10</td>\n",
       "      <td>12332845</td>\n",
       "      <td>Jessica</td>\n",
       "      <td>Our family (two couples, a two year old and an...</td>\n",
       "      <td>family couples year old infant incredible stay...</td>\n",
       "      <td>[family, couples, year, old, infant, incredibl...</td>\n",
       "    </tr>\n",
       "    <tr>\n",
       "      <th>2</th>\n",
       "      <td>2318</td>\n",
       "      <td>140977084</td>\n",
       "      <td>2017-04-01</td>\n",
       "      <td>4789466</td>\n",
       "      <td>Ivan</td>\n",
       "      <td>Top of the list locations we have stayed at! T...</td>\n",
       "      <td>list locations stayed house perfect families c...</td>\n",
       "      <td>[list, locations, stayed, house, perfect, fami...</td>\n",
       "    </tr>\n",
       "    <tr>\n",
       "      <th>3</th>\n",
       "      <td>2318</td>\n",
       "      <td>147262504</td>\n",
       "      <td>2017-04-25</td>\n",
       "      <td>55817131</td>\n",
       "      <td>Mike</td>\n",
       "      <td>SUCH an awesome place. Very clean, quiet and s...</td>\n",
       "      <td>awesome place clean quiet spacious loved</td>\n",
       "      <td>[awesome, place, clean, quiet, spacious, loved]</td>\n",
       "    </tr>\n",
       "    <tr>\n",
       "      <th>4</th>\n",
       "      <td>2318</td>\n",
       "      <td>161806368</td>\n",
       "      <td>2017-06-18</td>\n",
       "      <td>113604590</td>\n",
       "      <td>Pete</td>\n",
       "      <td>We flew quite a distance to be at our only dau...</td>\n",
       "      <td>flew distance daughters graduation needed plac...</td>\n",
       "      <td>[flew, distance, daughters, graduation, needed...</td>\n",
       "    </tr>\n",
       "  </tbody>\n",
       "</table>\n",
       "</div>"
      ],
      "text/plain": [
       "   listing_id         id        date  reviewer_id reviewer_name  \\\n",
       "0        2318        146  2008-09-15         2451         Kevin   \n",
       "1        2318  126302712  2017-01-10     12332845       Jessica   \n",
       "2        2318  140977084  2017-04-01      4789466          Ivan   \n",
       "3        2318  147262504  2017-04-25     55817131          Mike   \n",
       "4        2318  161806368  2017-06-18    113604590          Pete   \n",
       "\n",
       "                                            comments  \\\n",
       "0        1000 times better than staying at a hotel.    \n",
       "1  Our family (two couples, a two year old and an...   \n",
       "2  Top of the list locations we have stayed at! T...   \n",
       "3  SUCH an awesome place. Very clean, quiet and s...   \n",
       "4  We flew quite a distance to be at our only dau...   \n",
       "\n",
       "                                    cleaned_comments  \\\n",
       "0                        times better staying hotel    \n",
       "1  family couples year old infant incredible stay...   \n",
       "2  list locations stayed house perfect families c...   \n",
       "3           awesome place clean quiet spacious loved   \n",
       "4  flew distance daughters graduation needed plac...   \n",
       "\n",
       "                                              tokens  \n",
       "0                    [times, better, staying, hotel]  \n",
       "1  [family, couples, year, old, infant, incredibl...  \n",
       "2  [list, locations, stayed, house, perfect, fami...  \n",
       "3    [awesome, place, clean, quiet, spacious, loved]  \n",
       "4  [flew, distance, daughters, graduation, needed...  "
      ]
     },
     "execution_count": 38,
     "metadata": {},
     "output_type": "execute_result"
    }
   ],
   "source": [
    "df_Seattle['cleaned_comments'] = df_Seattle['comments'].apply(cleaning)\n",
    "df_Seattle['tokens'] = df_Seattle['cleaned_comments'].apply(tokenize)\n",
    "df_Seattle.head()"
   ]
  },
  {
   "cell_type": "code",
   "execution_count": 10,
   "metadata": {},
   "outputs": [
    {
     "name": "stderr",
     "output_type": "stream",
     "text": [
      "[nltk_data] Downloading package vader_lexicon to\n",
      "[nltk_data]     /Users/arushij1711/nltk_data...\n"
     ]
    },
    {
     "data": {
      "text/plain": [
       "True"
      ]
     },
     "execution_count": 10,
     "metadata": {},
     "output_type": "execute_result"
    }
   ],
   "source": [
    "import nltk\n",
    "nltk.download('vader_lexicon')"
   ]
  },
  {
   "cell_type": "code",
   "execution_count": 39,
   "metadata": {},
   "outputs": [],
   "source": [
    "sid = SentimentIntensityAnalyzer()\n",
    "def sentiment_score(row):\n",
    "    try:\n",
    "        return sid.polarity_scores(text = row)\n",
    "    except:\n",
    "        print(row)"
   ]
  },
  {
   "cell_type": "code",
   "execution_count": 44,
   "metadata": {},
   "outputs": [
    {
     "data": {
      "text/html": [
       "<div>\n",
       "<style scoped>\n",
       "    .dataframe tbody tr th:only-of-type {\n",
       "        vertical-align: middle;\n",
       "    }\n",
       "\n",
       "    .dataframe tbody tr th {\n",
       "        vertical-align: top;\n",
       "    }\n",
       "\n",
       "    .dataframe thead th {\n",
       "        text-align: right;\n",
       "    }\n",
       "</style>\n",
       "<table border=\"1\" class=\"dataframe\">\n",
       "  <thead>\n",
       "    <tr style=\"text-align: right;\">\n",
       "      <th></th>\n",
       "      <th>listing_id</th>\n",
       "      <th>id</th>\n",
       "      <th>date</th>\n",
       "      <th>reviewer_id</th>\n",
       "      <th>reviewer_name</th>\n",
       "      <th>comments</th>\n",
       "      <th>cleaned_comments</th>\n",
       "      <th>tokens</th>\n",
       "      <th>scores</th>\n",
       "      <th>cleaned_scores</th>\n",
       "    </tr>\n",
       "  </thead>\n",
       "  <tbody>\n",
       "    <tr>\n",
       "      <th>0</th>\n",
       "      <td>2318</td>\n",
       "      <td>146</td>\n",
       "      <td>2008-09-15</td>\n",
       "      <td>2451</td>\n",
       "      <td>Kevin</td>\n",
       "      <td>1000 times better than staying at a hotel.</td>\n",
       "      <td>times better staying hotel</td>\n",
       "      <td>[times, better, staying, hotel]</td>\n",
       "      <td>{'neg': 0.0, 'neu': 0.674, 'pos': 0.326, 'comp...</td>\n",
       "      <td>{'neg': 0.0, 'neu': 0.508, 'pos': 0.492, 'comp...</td>\n",
       "    </tr>\n",
       "    <tr>\n",
       "      <th>1</th>\n",
       "      <td>2318</td>\n",
       "      <td>126302712</td>\n",
       "      <td>2017-01-10</td>\n",
       "      <td>12332845</td>\n",
       "      <td>Jessica</td>\n",
       "      <td>Our family (two couples, a two year old and an...</td>\n",
       "      <td>family couples year old infant incredible stay...</td>\n",
       "      <td>[family, couples, year, old, infant, incredibl...</td>\n",
       "      <td>{'neg': 0.022, 'neu': 0.736, 'pos': 0.242, 'co...</td>\n",
       "      <td>{'neg': 0.014, 'neu': 0.581, 'pos': 0.405, 'co...</td>\n",
       "    </tr>\n",
       "    <tr>\n",
       "      <th>2</th>\n",
       "      <td>2318</td>\n",
       "      <td>140977084</td>\n",
       "      <td>2017-04-01</td>\n",
       "      <td>4789466</td>\n",
       "      <td>Ivan</td>\n",
       "      <td>Top of the list locations we have stayed at! T...</td>\n",
       "      <td>list locations stayed house perfect families c...</td>\n",
       "      <td>[list, locations, stayed, house, perfect, fami...</td>\n",
       "      <td>{'neg': 0.0, 'neu': 0.664, 'pos': 0.336, 'comp...</td>\n",
       "      <td>{'neg': 0.0, 'neu': 0.517, 'pos': 0.483, 'comp...</td>\n",
       "    </tr>\n",
       "    <tr>\n",
       "      <th>3</th>\n",
       "      <td>2318</td>\n",
       "      <td>147262504</td>\n",
       "      <td>2017-04-25</td>\n",
       "      <td>55817131</td>\n",
       "      <td>Mike</td>\n",
       "      <td>SUCH an awesome place. Very clean, quiet and s...</td>\n",
       "      <td>awesome place clean quiet spacious loved</td>\n",
       "      <td>[awesome, place, clean, quiet, spacious, loved]</td>\n",
       "      <td>{'neg': 0.0, 'neu': 0.415, 'pos': 0.585, 'comp...</td>\n",
       "      <td>{'neg': 0.0, 'neu': 0.219, 'pos': 0.781, 'comp...</td>\n",
       "    </tr>\n",
       "    <tr>\n",
       "      <th>4</th>\n",
       "      <td>2318</td>\n",
       "      <td>161806368</td>\n",
       "      <td>2017-06-18</td>\n",
       "      <td>113604590</td>\n",
       "      <td>Pete</td>\n",
       "      <td>We flew quite a distance to be at our only dau...</td>\n",
       "      <td>flew distance daughters graduation needed plac...</td>\n",
       "      <td>[flew, distance, daughters, graduation, needed...</td>\n",
       "      <td>{'neg': 0.037, 'neu': 0.803, 'pos': 0.16, 'com...</td>\n",
       "      <td>{'neg': 0.067, 'neu': 0.643, 'pos': 0.29, 'com...</td>\n",
       "    </tr>\n",
       "  </tbody>\n",
       "</table>\n",
       "</div>"
      ],
      "text/plain": [
       "   listing_id         id        date  reviewer_id reviewer_name  \\\n",
       "0        2318        146  2008-09-15         2451         Kevin   \n",
       "1        2318  126302712  2017-01-10     12332845       Jessica   \n",
       "2        2318  140977084  2017-04-01      4789466          Ivan   \n",
       "3        2318  147262504  2017-04-25     55817131          Mike   \n",
       "4        2318  161806368  2017-06-18    113604590          Pete   \n",
       "\n",
       "                                            comments  \\\n",
       "0        1000 times better than staying at a hotel.    \n",
       "1  Our family (two couples, a two year old and an...   \n",
       "2  Top of the list locations we have stayed at! T...   \n",
       "3  SUCH an awesome place. Very clean, quiet and s...   \n",
       "4  We flew quite a distance to be at our only dau...   \n",
       "\n",
       "                                    cleaned_comments  \\\n",
       "0                        times better staying hotel    \n",
       "1  family couples year old infant incredible stay...   \n",
       "2  list locations stayed house perfect families c...   \n",
       "3           awesome place clean quiet spacious loved   \n",
       "4  flew distance daughters graduation needed plac...   \n",
       "\n",
       "                                              tokens  \\\n",
       "0                    [times, better, staying, hotel]   \n",
       "1  [family, couples, year, old, infant, incredibl...   \n",
       "2  [list, locations, stayed, house, perfect, fami...   \n",
       "3    [awesome, place, clean, quiet, spacious, loved]   \n",
       "4  [flew, distance, daughters, graduation, needed...   \n",
       "\n",
       "                                              scores  \\\n",
       "0  {'neg': 0.0, 'neu': 0.674, 'pos': 0.326, 'comp...   \n",
       "1  {'neg': 0.022, 'neu': 0.736, 'pos': 0.242, 'co...   \n",
       "2  {'neg': 0.0, 'neu': 0.664, 'pos': 0.336, 'comp...   \n",
       "3  {'neg': 0.0, 'neu': 0.415, 'pos': 0.585, 'comp...   \n",
       "4  {'neg': 0.037, 'neu': 0.803, 'pos': 0.16, 'com...   \n",
       "\n",
       "                                      cleaned_scores  \n",
       "0  {'neg': 0.0, 'neu': 0.508, 'pos': 0.492, 'comp...  \n",
       "1  {'neg': 0.014, 'neu': 0.581, 'pos': 0.405, 'co...  \n",
       "2  {'neg': 0.0, 'neu': 0.517, 'pos': 0.483, 'comp...  \n",
       "3  {'neg': 0.0, 'neu': 0.219, 'pos': 0.781, 'comp...  \n",
       "4  {'neg': 0.067, 'neu': 0.643, 'pos': 0.29, 'com...  "
      ]
     },
     "execution_count": 44,
     "metadata": {},
     "output_type": "execute_result"
    }
   ],
   "source": [
    "df_Seattle['scores'] = df_Seattle['comments'].apply(sentiment_score)\n",
    "df_Seattle['cleaned_scores'] = df_Seattle['cleaned_comments'].apply(sentiment_score)\n",
    "df_Seattle.head()"
   ]
  },
  {
   "cell_type": "code",
   "execution_count": 45,
   "metadata": {},
   "outputs": [
    {
     "data": {
      "text/plain": [
       "Text(0.5, 1.0, 'Neutrality')"
      ]
     },
     "execution_count": 45,
     "metadata": {},
     "output_type": "execute_result"
    },
    {
     "data": {
      "image/png": "[encoded data removed]",
      "text/plain": [
       "<Figure size 432x288 with 1 Axes>"
      ]
     },
     "metadata": {
      "needs_background": "light"
     },
     "output_type": "display_data"
    }
   ],
   "source": [
    "pd.Series([score['neu'] for score in df_Seattle['scores'] ]).plot(kind='hist')\n",
    "pl.title(\"Neutrality\")"
   ]
  },
  {
   "cell_type": "code",
   "execution_count": 47,
   "metadata": {},
   "outputs": [
    {
     "data": {
      "text/plain": [
       "Text(0.5, 1.0, 'Positivity')"
      ]
     },
     "execution_count": 47,
     "metadata": {},
     "output_type": "execute_result"
    },
    {
     "data": {
      "image/png": "[encoded data removed]",
      "text/plain": [
       "<Figure size 432x288 with 1 Axes>"
      ]
     },
     "metadata": {
      "needs_background": "light"
     },
     "output_type": "display_data"
    }
   ],
   "source": [
    "pd.Series([score['pos'] for score in df_Seattle['scores']]).plot(kind='hist')\n",
    "pl.title(\"Positivity\")"
   ]
  },
  {
   "cell_type": "code",
   "execution_count": 48,
   "metadata": {},
   "outputs": [
    {
     "data": {
      "text/plain": [
       "Text(0.5, 1.0, 'Negativity')"
      ]
     },
     "execution_count": 48,
     "metadata": {},
     "output_type": "execute_result"
    },
    {
     "data": {
      "image/png": "[encoded data removed]",
      "text/plain": [
       "<Figure size 432x288 with 1 Axes>"
      ]
     },
     "metadata": {
      "needs_background": "light"
     },
     "output_type": "display_data"
    }
   ],
   "source": [
    "pd.Series([score['neg'] for score in df_Seattle['scores']]).plot(kind='hist', bins=100)\n",
    "pl.title(\"Negativity\")"
   ]
  },
  {
   "cell_type": "code",
   "execution_count": 67,
   "metadata": {},
   "outputs": [
    {
     "data": {
      "text/plain": [
       "0.012038991206675898"
      ]
     },
     "execution_count": 67,
     "metadata": {},
     "output_type": "execute_result"
    }
   ],
   "source": [
    "(pd.Series([score['neg'] for score in df_Seattle['scores']])).mean()"
   ]
  },
  {
   "cell_type": "code",
   "execution_count": 68,
   "metadata": {},
   "outputs": [
    {
     "data": {
      "text/plain": [
       "0.3381235336769822"
      ]
     },
     "execution_count": 68,
     "metadata": {},
     "output_type": "execute_result"
    }
   ],
   "source": [
    "(pd.Series([score['pos'] for score in df_Seattle['scores']])).mean()"
   ]
  },
  {
   "cell_type": "code",
   "execution_count": 69,
   "metadata": {},
   "outputs": [
    {
     "data": {
      "text/plain": [
       "0.6489564077887592"
      ]
     },
     "execution_count": 69,
     "metadata": {},
     "output_type": "execute_result"
    }
   ],
   "source": [
    "(pd.Series([score['neu'] for score in df_Seattle['scores']])).mean()"
   ]
  },
  {
   "cell_type": "code",
   "execution_count": 75,
   "metadata": {},
   "outputs": [],
   "source": [
    "placeholder = df_Seattle['comments'].apply(append)\n",
    "final_string = \"\\n\".join(master)\n",
    "    "
   ]
  },
  {
   "cell_type": "code",
   "execution_count": 76,
   "metadata": {},
   "outputs": [],
   "source": [
    "myfile = open(\"comments_Seattle.txt\", \"w\")\n",
    "myfile.write(final_string)\n",
    "myfile.close()"
   ]
  },
  {
   "cell_type": "code",
   "execution_count": 78,
   "metadata": {},
   "outputs": [],
   "source": [
    "!mv comments_Seattle.txt /Users/arushij1711/nltk_data/corpora/genesis/comments_Seattle.txt"
   ]
  },
  {
   "cell_type": "code",
   "execution_count": null,
   "metadata": {},
   "outputs": [],
   "source": [
    "bigram_measures = nltk.collocations.BigramAssocMeasures()\n",
    "trigram_measures = nltk.collocations.TrigramAssocMeasures()\n",
    "\n",
    "comments = BigramCollocationFinder.from_words(\n",
    "   nltk.corpus.genesis.words('comments_Seattle.txt'))\n",
    "\n",
    "comments.apply_freq_filter(3) \n",
    "\n",
    "# return the 10 n-grams with the highest PMI (point wise mutual information)\n",
    "comments.nbest(bigram_measures.pmi, 10)"
   ]
  },
  {
   "cell_type": "code",
   "execution_count": null,
   "metadata": {},
   "outputs": [],
   "source": []
  }
 ],
 "metadata": {
  "kernelspec": {
   "display_name": "Python 3",
   "language": "python",
   "name": "python3"
  },
  "language_info": {
   "codemirror_mode": {
    "name": "ipython",
    "version": 3
   },
   "file_extension": ".py",
   "mimetype": "text/x-python",
   "name": "python",
   "nbconvert_exporter": "python",
   "pygments_lexer": "ipython3",
   "version": "3.6.8"
  }
 },
 "nbformat": 4,
 "nbformat_minor": 2
}
