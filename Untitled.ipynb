{
 "cells": [
  {
   "cell_type": "code",
   "execution_count": 20,
   "metadata": {
    "collapsed": true
   },
   "outputs": [],
   "source": [
    "with open(\"bag_of_words_Chicago.txt\") as fp:\n",
    "    content = fp.read()"
   ]
  },
  {
   "cell_type": "code",
   "execution_count": 21,
   "metadata": {
    "collapsed": true
   },
   "outputs": [],
   "source": [
    "content = content.split()"
   ]
  },
  {
   "cell_type": "code",
   "execution_count": 22,
   "metadata": {
    "collapsed": true
   },
   "outputs": [],
   "source": [
    "from collections import Counter\n",
    "from itertools import dropwhile"
   ]
  },
  {
   "cell_type": "code",
   "execution_count": 23,
   "metadata": {
    "collapsed": true
   },
   "outputs": [],
   "source": [
    "content = Counter(content)"
   ]
  },
  {
   "cell_type": "code",
   "execution_count": 24,
   "metadata": {
    "collapsed": true
   },
   "outputs": [],
   "source": [
    "clean_content = content.copy()"
   ]
  },
  {
   "cell_type": "code",
   "execution_count": 25,
   "metadata": {},
   "outputs": [],
   "source": [
    "top_words = {word[0]: word[1] for word in clean_content.most_common()[:50]}"
   ]
  },
  {
   "cell_type": "code",
   "execution_count": 26,
   "metadata": {
    "collapsed": true
   },
   "outputs": [],
   "source": [
    "import json"
   ]
  },
  {
   "cell_type": "code",
   "execution_count": 18,
   "metadata": {},
   "outputs": [
    {
     "data": {
      "text/plain": [
       "'beautiful walking neighborhood house parking walk street experience close need home check perfect city little apartment space convenient night airbnb needed amazing wonderful location easy boston kitchen nice staying good recommend stay highly host comfortable super helpful downtown great room area quiet bed like definitely place t clean time restaurants'"
      ]
     },
     "execution_count": 18,
     "metadata": {},
     "output_type": "execute_result"
    }
   ],
   "source": [
    "' '.join(top_words)"
   ]
  },
  {
   "cell_type": "code",
   "execution_count": 27,
   "metadata": {},
   "outputs": [
    {
     "data": {
      "text/plain": [
       "'{\"beautiful\": 22400, \"walking\": 20003, \"neighborhood\": 42421, \"house\": 30493, \"parking\": 24247, \"spacious\": 17522, \"comfortable\": 50327, \"area\": 25789, \"street\": 17469, \"bed\": 19286, \"close\": 39294, \"home\": 38865, \"check\": 19615, \"perfect\": 37006, \"city\": 24222, \"apartment\": 70112, \"chicago\": 71860, \"away\": 17420, \"airbnb\": 18907, \"needed\": 21505, \"amazing\": 22509, \"wonderful\": 22507, \"location\": 87285, \"easy\": 48695, \"recommend\": 46469, \"hosts\": 19360, \"friendly\": 20324, \"nice\": 60516, \"staying\": 23577, \"good\": 35936, \"helpful\": 22133, \"stay\": 130288, \"downtown\": 26091, \"host\": 59905, \"highly\": 22224, \"line\": 17456, \"walk\": 24925, \"super\": 27847, \"like\": 22349, \"loved\": 17945, \"great\": 183843, \"room\": 40212, \"space\": 37494, \"quiet\": 23823, \"experience\": 20936, \"definitely\": 41611, \"place\": 164043, \"clean\": 81074, \"time\": 35873, \"restaurants\": 29124}'"
      ]
     },
     "execution_count": 27,
     "metadata": {},
     "output_type": "execute_result"
    }
   ],
   "source": [
    "json.dumps(top_words)"
   ]
  },
  {
   "cell_type": "code",
   "execution_count": null,
   "metadata": {
    "collapsed": true
   },
   "outputs": [],
   "source": []
  }
 ],
 "metadata": {
  "kernelspec": {
   "display_name": "Python 2",
   "language": "python",
   "name": "python2"
  },
  "language_info": {
   "codemirror_mode": {
    "name": "ipython",
    "version": 2
   },
   "file_extension": ".py",
   "mimetype": "text/x-python",
   "name": "python",
   "nbconvert_exporter": "python",
   "pygments_lexer": "ipython2",
   "version": "2.7.13"
  }
 },
 "nbformat": 4,
 "nbformat_minor": 2
}
